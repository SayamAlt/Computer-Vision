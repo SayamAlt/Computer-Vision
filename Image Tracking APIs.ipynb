{
 "cells": [
  {
   "cell_type": "code",
   "execution_count": 1,
   "id": "323d92b9-e68d-47a0-866a-a5632e26d1be",
   "metadata": {},
   "outputs": [],
   "source": [
    "import cv2"
   ]
  },
  {
   "cell_type": "code",
   "execution_count": 2,
   "id": "38187542-4810-4c15-8406-1161ee8c42f6",
   "metadata": {},
   "outputs": [],
   "source": [
    "def ask_for_tracker():\n",
    "    print(\"Welcome! What Tracker API would u like to choose?\")\n",
    "    print(\"ENTER 0 FOR BOOSTING:\")\n",
    "    print(\"ENTER 1 FOR CSRT:\")\n",
    "    print(\"ENTER 2 FOR MIL:\")\n",
    "    print(\"ENTER 3 FOR KCF:\")\n",
    "    print(\"ENTER 4 FOR MedianFlow:\")\n",
    "    print(\"ENTER 5 FOR MOSSE:\")\n",
    "    print(\"ENTER 6 FOR Multi:\")\n",
    "    print(\"ENTER 7 FOR TLD:\")\n",
    "    choice = input(\"Please enter your tracker:\")\n",
    "    \n",
    "    if choice == '0':\n",
    "        tracker = cv2.legacy.TrackerBoosting_create()\n",
    "    if choice == '1':\n",
    "        tracker = cv2.TrackerCSRT_create()\n",
    "    if choice == '2':\n",
    "        tracker = cv2.TrackerMIL_create()\n",
    "    if choice == '3':\n",
    "        tracker = cv2.TrackerKCF_create()\n",
    "    if choice == '4':\n",
    "        tracker = cv2.legacy.TrackerMedianFlow_create()\n",
    "    if choice == '5':\n",
    "        tracker = cv2.legacy.TrackerMOSSE_create()\n",
    "    if choice == '6':\n",
    "        tracker = cv2.legacy.MultiTracker_create()\n",
    "    if choice == '7':\n",
    "        tracker = cv2.legacy.TrackerTLD_create()\n",
    "    \n",
    "    return tracker"
   ]
  },
  {
   "cell_type": "code",
   "execution_count": 3,
   "id": "facf6e7e-5db1-4e94-a94c-6567df92dd71",
   "metadata": {},
   "outputs": [
    {
     "name": "stdout",
     "output_type": "stream",
     "text": [
      "Welcome! What Tracker API would u like to choose?\n",
      "ENTER 0 FOR BOOSTING:\n",
      "ENTER 1 FOR CSRT:\n",
      "ENTER 2 FOR MIL:\n",
      "ENTER 3 FOR KCF:\n",
      "ENTER 4 FOR MedianFlow:\n",
      "ENTER 5 FOR MOSSE:\n",
      "ENTER 6 FOR Multi:\n",
      "ENTER 7 FOR TLD:\n"
     ]
    },
    {
     "name": "stdin",
     "output_type": "stream",
     "text": [
      "Please enter your tracker: 1\n"
     ]
    }
   ],
   "source": [
    "tracker = ask_for_tracker()"
   ]
  },
  {
   "cell_type": "code",
   "execution_count": 4,
   "id": "4806dc18-f587-4dcf-9bed-ef32a91f9a84",
   "metadata": {},
   "outputs": [
    {
     "data": {
      "text/plain": [
       "'TrackerCSRT'"
      ]
     },
     "execution_count": 4,
     "metadata": {},
     "output_type": "execute_result"
    }
   ],
   "source": [
    "str(tracker).split()[1][4:]"
   ]
  },
  {
   "cell_type": "code",
   "execution_count": 6,
   "id": "b83b7797-3f08-44ba-ba77-6c52d539c412",
   "metadata": {},
   "outputs": [
    {
     "name": "stdout",
     "output_type": "stream",
     "text": [
      "Welcome! What Tracker API would u like to choose?\n",
      "ENTER 0 FOR BOOSTING:\n",
      "ENTER 1 FOR CSRT:\n",
      "ENTER 2 FOR MIL:\n",
      "ENTER 3 FOR KCF:\n",
      "ENTER 4 FOR MedianFlow:\n",
      "ENTER 5 FOR MOSSE:\n",
      "ENTER 6 FOR Multi:\n",
      "ENTER 7 FOR TLD:\n"
     ]
    },
    {
     "name": "stdin",
     "output_type": "stream",
     "text": [
      "Please enter your tracker: 7\n"
     ]
    }
   ],
   "source": [
    "tracker = ask_for_tracker()\n",
    "tracker_name = str(tracker).split()[1][4:]\n",
    "cap = cv2.VideoCapture(0)\n",
    "ret, frame = cap.read()\n",
    "roi = cv2.selectROI('ROI TRACKER',frame)\n",
    "tracker.init(frame,roi)\n",
    "\n",
    "while True:\n",
    "    ret, frame = cap.read()\n",
    "    success, roi = tracker.update(frame)\n",
    "    (x,y,w,h) = tuple(map(int,roi))\n",
    "    if success:\n",
    "        pt1 = (x,y)\n",
    "        pt2 = (x+w,y+h)\n",
    "        cv2.rectangle(frame,pt1,pt2,(255,0,0),5)\n",
    "    else:\n",
    "        cv2.putText(frame,\"FAILURE TO DETECT TRACKING!!\",(100,200),cv2.FONT_HERSHEY_COMPLEX,1,(0,0,255),6)\n",
    "    \n",
    "    cv2.putText(frame,tracker_name,(20,400),cv2.FONT_HERSHEY_COMPLEX,1,(0,255,0),5)\n",
    "    cv2.imshow(tracker_name,frame)\n",
    "    \n",
    "    if cv2.waitKey(1) & 0xFF == ord('q'):\n",
    "        break\n",
    "    \n",
    "cap.release()\n",
    "cv2.destroyAllWindows()"
   ]
  }
 ],
 "metadata": {
  "kernelspec": {
   "display_name": "Python 3 (ipykernel)",
   "language": "python",
   "name": "python3"
  },
  "language_info": {
   "codemirror_mode": {
    "name": "ipython",
    "version": 3
   },
   "file_extension": ".py",
   "mimetype": "text/x-python",
   "name": "python",
   "nbconvert_exporter": "python",
   "pygments_lexer": "ipython3",
   "version": "3.8.8"
  }
 },
 "nbformat": 4,
 "nbformat_minor": 5
}
