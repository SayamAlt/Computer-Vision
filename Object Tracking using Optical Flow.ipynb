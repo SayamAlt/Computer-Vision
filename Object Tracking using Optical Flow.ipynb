{
 "cells": [
  {
   "cell_type": "code",
   "execution_count": 1,
   "id": "ffebbf56-f0f1-4f6f-be29-df82bb852927",
   "metadata": {},
   "outputs": [],
   "source": [
    "import numpy as np\n",
    "import cv2\n",
    "import matplotlib.pyplot as plt\n",
    "%matplotlib inline"
   ]
  },
  {
   "cell_type": "code",
   "execution_count": 2,
   "id": "ac246ad0-36b7-4ba6-ae99-1392a0bf0141",
   "metadata": {},
   "outputs": [
    {
     "data": {
      "text/plain": [
       "{'maxCorners': 10, 'minDistance': 5, 'qualityLevel': 0.4, 'blockSize': 7}"
      ]
     },
     "execution_count": 2,
     "metadata": {},
     "output_type": "execute_result"
    }
   ],
   "source": [
    "corner_track_params = dict(maxCorners=10,minDistance=5,qualityLevel=0.4,blockSize=7)\n",
    "corner_track_params"
   ]
  },
  {
   "cell_type": "code",
   "execution_count": 3,
   "id": "122b011a-9261-4541-9adc-935479ba2fe7",
   "metadata": {},
   "outputs": [
    {
     "data": {
      "text/plain": [
       "{'winSize': (200, 200), 'maxLevel': 2, 'criteria': (3, 10, 0.03)}"
      ]
     },
     "execution_count": 3,
     "metadata": {},
     "output_type": "execute_result"
    }
   ],
   "source": [
    "lk_params = dict(winSize=(200,200),maxLevel=2,criteria=(cv2.TERM_CRITERIA_EPS | cv2.TERM_CRITERIA_COUNT,10,0.03))\n",
    "lk_params"
   ]
  },
  {
   "cell_type": "code",
   "execution_count": 4,
   "id": "09d5c53c-d305-425d-85b5-4de2c87c7454",
   "metadata": {},
   "outputs": [],
   "source": [
    "# OPTICAL FLOW VIDEO CAPTURE\n",
    "cap = cv2.VideoCapture(0)\n",
    "ret, prev_frame = cap.read()\n",
    "prev_gray = cv2.cvtColor(prev_frame,cv2.COLOR_BGR2GRAY)\n",
    "prev_pts = cv2.goodFeaturesToTrack(prev_gray,mask=None,**corner_track_params)\n",
    "mask = np.zeros_like(prev_frame)\n",
    "\n",
    "while True:\n",
    "    ret, curr_frame = cap.read()\n",
    "    curr_gray = cv2.cvtColor(curr_frame,cv2.COLOR_BGR2GRAY)\n",
    "    next_pts, status, err = cv2.calcOpticalFlowPyrLK(prev_gray,curr_gray,prev_pts,None,**lk_params)\n",
    "    good_new = next_pts[status==1]\n",
    "    good_prev = prev_pts[status==1]\n",
    "    \n",
    "    for i,(prev,new) in enumerate(zip(good_prev,good_new)):\n",
    "        x_prev, y_prev = prev.ravel()\n",
    "        x_new, y_new = new.ravel()\n",
    "        x_new, y_new = int(x_new), int(y_new)\n",
    "        x_prev, y_prev = int(x_prev), int(y_prev)\n",
    "        mask = cv2.line(mask,(x_new,y_new),(x_prev,y_prev),(0,255,0),5)\n",
    "        curr_frame = cv2.circle(curr_frame,(x_new,y_new),8,(255,0,0),-1)\n",
    "    \n",
    "    img = cv2.add(curr_frame,mask)\n",
    "    cv2.imshow('Image Tracking',img)\n",
    "    \n",
    "    if cv2.waitKey(25) & 0xFF == ord('q'):\n",
    "        break\n",
    "    \n",
    "    prev_gray = curr_gray.copy()\n",
    "    prev_pts = good_new.reshape(-1,1,2)\n",
    "\n",
    "cap.release()\n",
    "cv2.destroyAllWindows()"
   ]
  },
  {
   "cell_type": "code",
   "execution_count": 5,
   "id": "266b9638-f62f-4724-8237-47985a7cd3f1",
   "metadata": {},
   "outputs": [],
   "source": [
    "# OPTICAL DENSE FLOW VIDEO CAPTURE\n",
    "cap = cv2.VideoCapture(0)\n",
    "\n",
    "ret, prev_frame = cap.read()\n",
    "\n",
    "prev_gray = cv2.cvtColor(prev_frame,cv2.COLOR_BGR2GRAY)\n",
    "\n",
    "hsv_mask = np.zeros_like(prev_frame)\n",
    "hsv_mask[:,:,1] = 255\n",
    "\n",
    "while True:\n",
    "    ret, curr_frame = cap.read()\n",
    "    curr_gray = cv2.cvtColor(curr_frame,cv2.COLOR_BGR2GRAY)\n",
    "    flow = cv2.calcOpticalFlowFarneback(prev_gray,curr_gray,None,0.5,3,15,3,5,1.2,0)\n",
    "    mag, ang = cv2.cartToPolar(flow[:,:,0],flow[:,:,1],angleInDegrees=True)\n",
    "    hsv_mask[:,:,0] = ang / 2\n",
    "    hsv_mask[:,:,2] = cv2.normalize(mag,None,0,255,cv2.NORM_MINMAX)\n",
    "    hsv_bg = cv2.cvtColor(hsv_mask,cv2.COLOR_HSV2RGB)\n",
    "    cv2.imshow('Optical Dense Flow Image Tracking',hsv_bg)\n",
    "    \n",
    "    if cv2.waitKey(1) & 0xFF == ord('q'):\n",
    "        break  \n",
    "        \n",
    "    prev_gray = curr_gray\n",
    "\n",
    "cap.release()\n",
    "cv2.destroyAllWindows()"
   ]
  }
 ],
 "metadata": {
  "kernelspec": {
   "display_name": "Python 3 (ipykernel)",
   "language": "python",
   "name": "python3"
  },
  "language_info": {
   "codemirror_mode": {
    "name": "ipython",
    "version": 3
   },
   "file_extension": ".py",
   "mimetype": "text/x-python",
   "name": "python",
   "nbconvert_exporter": "python",
   "pygments_lexer": "ipython3",
   "version": "3.8.8"
  }
 },
 "nbformat": 4,
 "nbformat_minor": 5
}
